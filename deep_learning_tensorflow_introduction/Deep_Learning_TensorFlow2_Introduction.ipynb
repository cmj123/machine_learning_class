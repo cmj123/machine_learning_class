{
 "cells": [
  {
   "cell_type": "markdown",
   "metadata": {},
   "source": [
    "# Minimal example with TensorFlow 2.0\n",
    "#### In this notebook we will recreate our machine learning algorithm using TF 2.0"
   ]
  },
  {
   "cell_type": "markdown",
   "metadata": {},
   "source": [
    "### Import the relevant libraries"
   ]
  },
  {
   "cell_type": "code",
   "execution_count": 1,
   "metadata": {},
   "outputs": [
    {
     "name": "stderr",
     "output_type": "stream",
     "text": [
      "\n",
      "Bad key axes.color_cycle in file /Users/esuabomdijemeni/anaconda3/lib/python3.7/site-packages/matplotlib/mpl-data/stylelib/ourstyle.mplstyle, line 3 ('axes.color_cycle: 19e7d8, e719ca, 191ce7, 101011, e51919, f0f214, 48f214, 1af033')\n",
      "You probably need to get an updated matplotlibrc file from\n",
      "https://github.com/matplotlib/matplotlib/blob/v3.3.2/matplotlibrc.template\n",
      "or from the matplotlib source distribution\n"
     ]
    }
   ],
   "source": [
    "import numpy as np\n",
    "import pandas as pd\n",
    "import matplotlib.pyplot as plt\n",
    "import tensorflow as tf"
   ]
  },
  {
   "cell_type": "markdown",
   "metadata": {},
   "source": [
    "### Data generation"
   ]
  },
  {
   "cell_type": "code",
   "execution_count": 2,
   "metadata": {},
   "outputs": [],
   "source": [
    "observations = 1000\n",
    "\n",
    "xs = np.random.uniform(low=-10, high=10, size=(observations, 1))\n",
    "zs = np.random.uniform(low=-10, high=10, size=(observations, 1))\n",
    "\n",
    "generated_inputs = np.column_stack((xs, zs))\n",
    "\n",
    "noise = np.random.uniform(-1, 1, (observations, 1))\n",
    "\n",
    "generated_targets = 2*xs - 3*zs + 5 + noise\n",
    "\n",
    "np.savez('TF_intro', inputs=generated_inputs, targets=generated_targets)"
   ]
  },
  {
   "cell_type": "markdown",
   "metadata": {},
   "source": [
    "### Solving with TensorFlow"
   ]
  },
  {
   "cell_type": "code",
   "execution_count": 3,
   "metadata": {},
   "outputs": [],
   "source": [
    "training_data = np.load('TF_intro.npz')"
   ]
  },
  {
   "cell_type": "code",
   "execution_count": 11,
   "metadata": {},
   "outputs": [
    {
     "name": "stdout",
     "output_type": "stream",
     "text": [
      "Epoch 1/100\n",
      "32/32 - 0s - loss: 29.5349\n",
      "Epoch 2/100\n",
      "32/32 - 0s - loss: 4.3764\n",
      "Epoch 3/100\n",
      "32/32 - 0s - loss: 1.4240\n",
      "Epoch 4/100\n",
      "32/32 - 0s - loss: 0.6374\n",
      "Epoch 5/100\n",
      "32/32 - 0s - loss: 0.4288\n",
      "Epoch 6/100\n",
      "32/32 - 0s - loss: 0.3514\n",
      "Epoch 7/100\n",
      "32/32 - 0s - loss: 0.3400\n",
      "Epoch 8/100\n",
      "32/32 - 0s - loss: 0.3380\n",
      "Epoch 9/100\n",
      "32/32 - 0s - loss: 0.3289\n",
      "Epoch 10/100\n",
      "32/32 - 0s - loss: 0.3397\n",
      "Epoch 11/100\n",
      "32/32 - 0s - loss: 0.3317\n",
      "Epoch 12/100\n",
      "32/32 - 0s - loss: 0.3270\n",
      "Epoch 13/100\n",
      "32/32 - 0s - loss: 0.3293\n",
      "Epoch 14/100\n",
      "32/32 - 0s - loss: 0.3334\n",
      "Epoch 15/100\n",
      "32/32 - 0s - loss: 0.3349\n",
      "Epoch 16/100\n",
      "32/32 - 0s - loss: 0.3343\n",
      "Epoch 17/100\n",
      "32/32 - 0s - loss: 0.3313\n",
      "Epoch 18/100\n",
      "32/32 - 0s - loss: 0.3350\n",
      "Epoch 19/100\n",
      "32/32 - 0s - loss: 0.3298\n",
      "Epoch 20/100\n",
      "32/32 - 0s - loss: 0.3292\n",
      "Epoch 21/100\n",
      "32/32 - 0s - loss: 0.3309\n",
      "Epoch 22/100\n",
      "32/32 - 0s - loss: 0.3375\n",
      "Epoch 23/100\n",
      "32/32 - 0s - loss: 0.3345\n",
      "Epoch 24/100\n",
      "32/32 - 0s - loss: 0.3446\n",
      "Epoch 25/100\n",
      "32/32 - 0s - loss: 0.3292\n",
      "Epoch 26/100\n",
      "32/32 - 0s - loss: 0.3342\n",
      "Epoch 27/100\n",
      "32/32 - 0s - loss: 0.3304\n",
      "Epoch 28/100\n",
      "32/32 - 0s - loss: 0.3287\n",
      "Epoch 29/100\n",
      "32/32 - 0s - loss: 0.3295\n",
      "Epoch 30/100\n",
      "32/32 - 0s - loss: 0.3347\n",
      "Epoch 31/100\n",
      "32/32 - 0s - loss: 0.3317\n",
      "Epoch 32/100\n",
      "32/32 - 0s - loss: 0.3312\n",
      "Epoch 33/100\n",
      "32/32 - 0s - loss: 0.3299\n",
      "Epoch 34/100\n",
      "32/32 - 0s - loss: 0.3269\n",
      "Epoch 35/100\n",
      "32/32 - 0s - loss: 0.3319\n",
      "Epoch 36/100\n",
      "32/32 - 0s - loss: 0.3314\n",
      "Epoch 37/100\n",
      "32/32 - 0s - loss: 0.3311\n",
      "Epoch 38/100\n",
      "32/32 - 0s - loss: 0.3331\n",
      "Epoch 39/100\n",
      "32/32 - 0s - loss: 0.3226\n",
      "Epoch 40/100\n",
      "32/32 - 0s - loss: 0.3309\n",
      "Epoch 41/100\n",
      "32/32 - 0s - loss: 0.3275\n",
      "Epoch 42/100\n",
      "32/32 - 0s - loss: 0.3341\n",
      "Epoch 43/100\n",
      "32/32 - 0s - loss: 0.3333\n",
      "Epoch 44/100\n",
      "32/32 - 0s - loss: 0.3348\n",
      "Epoch 45/100\n",
      "32/32 - 0s - loss: 0.3296\n",
      "Epoch 46/100\n",
      "32/32 - 0s - loss: 0.3335\n",
      "Epoch 47/100\n",
      "32/32 - 0s - loss: 0.3338\n",
      "Epoch 48/100\n",
      "32/32 - 0s - loss: 0.3324\n",
      "Epoch 49/100\n",
      "32/32 - 0s - loss: 0.3296\n",
      "Epoch 50/100\n",
      "32/32 - 0s - loss: 0.3301\n",
      "Epoch 51/100\n",
      "32/32 - 0s - loss: 0.3322\n",
      "Epoch 52/100\n",
      "32/32 - 0s - loss: 0.3303\n",
      "Epoch 53/100\n",
      "32/32 - 0s - loss: 0.3266\n",
      "Epoch 54/100\n",
      "32/32 - 0s - loss: 0.3290\n",
      "Epoch 55/100\n",
      "32/32 - 0s - loss: 0.3269\n",
      "Epoch 56/100\n",
      "32/32 - 0s - loss: 0.3322\n",
      "Epoch 57/100\n",
      "32/32 - 0s - loss: 0.3308\n",
      "Epoch 58/100\n",
      "32/32 - 0s - loss: 0.3293\n",
      "Epoch 59/100\n",
      "32/32 - 0s - loss: 0.3282\n",
      "Epoch 60/100\n",
      "32/32 - 0s - loss: 0.3393\n",
      "Epoch 61/100\n",
      "32/32 - 0s - loss: 0.3295\n",
      "Epoch 62/100\n",
      "32/32 - 0s - loss: 0.3308\n",
      "Epoch 63/100\n",
      "32/32 - 0s - loss: 0.3348\n",
      "Epoch 64/100\n",
      "32/32 - 0s - loss: 0.3343\n",
      "Epoch 65/100\n",
      "32/32 - 0s - loss: 0.3305\n",
      "Epoch 66/100\n",
      "32/32 - 0s - loss: 0.3296\n",
      "Epoch 67/100\n",
      "32/32 - 0s - loss: 0.3327\n",
      "Epoch 68/100\n",
      "32/32 - 0s - loss: 0.3332\n",
      "Epoch 69/100\n",
      "32/32 - 0s - loss: 0.3273\n",
      "Epoch 70/100\n",
      "32/32 - 0s - loss: 0.3342\n",
      "Epoch 71/100\n",
      "32/32 - 0s - loss: 0.3355\n",
      "Epoch 72/100\n",
      "32/32 - 0s - loss: 0.3372\n",
      "Epoch 73/100\n",
      "32/32 - 0s - loss: 0.3308\n",
      "Epoch 74/100\n",
      "32/32 - 0s - loss: 0.3320\n",
      "Epoch 75/100\n",
      "32/32 - 0s - loss: 0.3304\n",
      "Epoch 76/100\n",
      "32/32 - 0s - loss: 0.3330\n",
      "Epoch 77/100\n",
      "32/32 - 0s - loss: 0.3351\n",
      "Epoch 78/100\n",
      "32/32 - 0s - loss: 0.3341\n",
      "Epoch 79/100\n",
      "32/32 - 0s - loss: 0.3308\n",
      "Epoch 80/100\n",
      "32/32 - 0s - loss: 0.3365\n",
      "Epoch 81/100\n",
      "32/32 - 0s - loss: 0.3346\n",
      "Epoch 82/100\n",
      "32/32 - 0s - loss: 0.3303\n",
      "Epoch 83/100\n",
      "32/32 - 0s - loss: 0.3258\n",
      "Epoch 84/100\n",
      "32/32 - 0s - loss: 0.3291\n",
      "Epoch 85/100\n",
      "32/32 - 0s - loss: 0.3373\n",
      "Epoch 86/100\n",
      "32/32 - 0s - loss: 0.3326\n",
      "Epoch 87/100\n",
      "32/32 - 0s - loss: 0.3297\n",
      "Epoch 88/100\n",
      "32/32 - 0s - loss: 0.3301\n",
      "Epoch 89/100\n",
      "32/32 - 0s - loss: 0.3335\n",
      "Epoch 90/100\n",
      "32/32 - 0s - loss: 0.3380\n",
      "Epoch 91/100\n",
      "32/32 - 0s - loss: 0.3306\n",
      "Epoch 92/100\n",
      "32/32 - 0s - loss: 0.3329\n",
      "Epoch 93/100\n",
      "32/32 - 0s - loss: 0.3316\n",
      "Epoch 94/100\n",
      "32/32 - 0s - loss: 0.3324\n",
      "Epoch 95/100\n",
      "32/32 - 0s - loss: 0.3339\n",
      "Epoch 96/100\n",
      "32/32 - 0s - loss: 0.3295\n",
      "Epoch 97/100\n",
      "32/32 - 0s - loss: 0.3305\n",
      "Epoch 98/100\n",
      "32/32 - 0s - loss: 0.3273\n",
      "Epoch 99/100\n",
      "32/32 - 0s - loss: 0.3337\n",
      "Epoch 100/100\n",
      "32/32 - 0s - loss: 0.3283\n"
     ]
    },
    {
     "data": {
      "text/plain": [
       "<tensorflow.python.keras.callbacks.History at 0x7fe96f180fd0>"
      ]
     },
     "execution_count": 11,
     "metadata": {},
     "output_type": "execute_result"
    }
   ],
   "source": [
    "input_size = 2\n",
    "output_size = 1\n",
    "\n",
    "model = tf.keras.Sequential([\n",
    "    tf.keras.layers.Dense(output_size, \n",
    "                          kernel_initializer=tf.random_uniform_initializer(minval=-0.1, maxval=0.1), \n",
    "                          bias_initializer=tf.random_uniform_initializer(minval=-0.1, maxval=0.1))\n",
    "])\n",
    "\n",
    "# Define optimizer\n",
    "custom_optimizer = tf.keras.optimizers.SGD(learning_rate=0.02)\n",
    "model.compile(optimizer='sgd', loss='mean_squared_error')\n",
    "\n",
    "model.fit(training_data['inputs'], training_data['targets'], epochs=100, verbose=2)"
   ]
  },
  {
   "cell_type": "markdown",
   "metadata": {},
   "source": [
    "### Extract the weights and bias"
   ]
  },
  {
   "cell_type": "code",
   "execution_count": 12,
   "metadata": {},
   "outputs": [
    {
     "data": {
      "text/plain": [
       "[array([[ 1.999273 ],\n",
       "        [-3.0128691]], dtype=float32),\n",
       " array([4.9734235], dtype=float32)]"
      ]
     },
     "execution_count": 12,
     "metadata": {},
     "output_type": "execute_result"
    }
   ],
   "source": [
    "model.layers[0].get_weights()"
   ]
  },
  {
   "cell_type": "code",
   "execution_count": 13,
   "metadata": {},
   "outputs": [
    {
     "data": {
      "text/plain": [
       "array([[ 1.999273 ],\n",
       "       [-3.0128691]], dtype=float32)"
      ]
     },
     "execution_count": 13,
     "metadata": {},
     "output_type": "execute_result"
    }
   ],
   "source": [
    "weights = model.layers[0].get_weights()[0]\n",
    "weights"
   ]
  },
  {
   "cell_type": "code",
   "execution_count": 14,
   "metadata": {},
   "outputs": [
    {
     "data": {
      "text/plain": [
       "array([4.9734235], dtype=float32)"
      ]
     },
     "execution_count": 14,
     "metadata": {},
     "output_type": "execute_result"
    }
   ],
   "source": [
    "bias = model.layers[0].get_weights()[1]\n",
    "bias"
   ]
  },
  {
   "cell_type": "markdown",
   "metadata": {},
   "source": [
    "### Extract the outputs (make predictions)"
   ]
  },
  {
   "cell_type": "code",
   "execution_count": 15,
   "metadata": {},
   "outputs": [],
   "source": [
    "predicted_values = model.predict_on_batch(training_data['inputs']).round(1)\n",
    "orignal_values = training_data['targets'].round(1)\n",
    "pred_result = pd.DataFrame(zip(orignal_values, predicted_values), columns=['Original Values','Predicted Values']) "
   ]
  },
  {
   "cell_type": "code",
   "execution_count": 16,
   "metadata": {},
   "outputs": [
    {
     "data": {
      "text/html": [
       "<div>\n",
       "<style scoped>\n",
       "    .dataframe tbody tr th:only-of-type {\n",
       "        vertical-align: middle;\n",
       "    }\n",
       "\n",
       "    .dataframe tbody tr th {\n",
       "        vertical-align: top;\n",
       "    }\n",
       "\n",
       "    .dataframe thead th {\n",
       "        text-align: right;\n",
       "    }\n",
       "</style>\n",
       "<table border=\"1\" class=\"dataframe\">\n",
       "  <thead>\n",
       "    <tr style=\"text-align: right;\">\n",
       "      <th></th>\n",
       "      <th>Original Values</th>\n",
       "      <th>Predicted Values</th>\n",
       "    </tr>\n",
       "  </thead>\n",
       "  <tbody>\n",
       "    <tr>\n",
       "      <th>0</th>\n",
       "      <td>[34.3]</td>\n",
       "      <td>[34.1]</td>\n",
       "    </tr>\n",
       "    <tr>\n",
       "      <th>1</th>\n",
       "      <td>[-6.5]</td>\n",
       "      <td>[-6.5]</td>\n",
       "    </tr>\n",
       "    <tr>\n",
       "      <th>2</th>\n",
       "      <td>[-38.4]</td>\n",
       "      <td>[-37.6]</td>\n",
       "    </tr>\n",
       "    <tr>\n",
       "      <th>3</th>\n",
       "      <td>[24.8]</td>\n",
       "      <td>[24.9]</td>\n",
       "    </tr>\n",
       "    <tr>\n",
       "      <th>4</th>\n",
       "      <td>[7.9]</td>\n",
       "      <td>[8.6]</td>\n",
       "    </tr>\n",
       "    <tr>\n",
       "      <th>...</th>\n",
       "      <td>...</td>\n",
       "      <td>...</td>\n",
       "    </tr>\n",
       "    <tr>\n",
       "      <th>995</th>\n",
       "      <td>[4.9]</td>\n",
       "      <td>[4.9]</td>\n",
       "    </tr>\n",
       "    <tr>\n",
       "      <th>996</th>\n",
       "      <td>[-22.8]</td>\n",
       "      <td>[-23.5]</td>\n",
       "    </tr>\n",
       "    <tr>\n",
       "      <th>997</th>\n",
       "      <td>[-27.5]</td>\n",
       "      <td>[-27.0]</td>\n",
       "    </tr>\n",
       "    <tr>\n",
       "      <th>998</th>\n",
       "      <td>[23.5]</td>\n",
       "      <td>[23.2]</td>\n",
       "    </tr>\n",
       "    <tr>\n",
       "      <th>999</th>\n",
       "      <td>[-3.0]</td>\n",
       "      <td>[-2.6]</td>\n",
       "    </tr>\n",
       "  </tbody>\n",
       "</table>\n",
       "<p>1000 rows × 2 columns</p>\n",
       "</div>"
      ],
      "text/plain": [
       "    Original Values Predicted Values\n",
       "0            [34.3]           [34.1]\n",
       "1            [-6.5]           [-6.5]\n",
       "2           [-38.4]          [-37.6]\n",
       "3            [24.8]           [24.9]\n",
       "4             [7.9]            [8.6]\n",
       "..              ...              ...\n",
       "995           [4.9]            [4.9]\n",
       "996         [-22.8]          [-23.5]\n",
       "997         [-27.5]          [-27.0]\n",
       "998          [23.5]           [23.2]\n",
       "999          [-3.0]           [-2.6]\n",
       "\n",
       "[1000 rows x 2 columns]"
      ]
     },
     "execution_count": 16,
     "metadata": {},
     "output_type": "execute_result"
    }
   ],
   "source": [
    "pred_result"
   ]
  },
  {
   "cell_type": "markdown",
   "metadata": {},
   "source": [
    "### Plotting the data"
   ]
  },
  {
   "cell_type": "code",
   "execution_count": 10,
   "metadata": {},
   "outputs": [
    {
     "data": {
      "image/png": "[encoded data removed]",
      "text/plain": [
       "<Figure size 432x288 with 1 Axes>"
      ]
     },
     "metadata": {
      "needs_background": "light"
     },
     "output_type": "display_data"
    }
   ],
   "source": [
    "plt.plot(np.squeeze(predicted_values), np.squeeze(orignal_values))\n",
    "plt.xlabel('outputs')\n",
    "plt.ylabel('targets')\n",
    "plt.show()"
   ]
  },
  {
   "cell_type": "code",
   "execution_count": null,
   "metadata": {},
   "outputs": [],
   "source": []
  }
 ],
 "metadata": {
  "kernelspec": {
   "display_name": "Python 3",
   "language": "python",
   "name": "python3"
  },
  "language_info": {
   "codemirror_mode": {
    "name": "ipython",
    "version": 3
   },
   "file_extension": ".py",
   "mimetype": "text/x-python",
   "name": "python",
   "nbconvert_exporter": "python",
   "pygments_lexer": "ipython3",
   "version": "3.7.3"
  }
 },
 "nbformat": 4,
 "nbformat_minor": 4
}
